{
 "cells": [
  {
   "cell_type": "code",
   "execution_count": 29,
   "id": "8730457d",
   "metadata": {},
   "outputs": [
    {
     "ename": "SyntaxError",
     "evalue": "invalid syntax (2233780057.py, line 1)",
     "output_type": "error",
     "traceback": [
      "\u001b[1;36m  Cell \u001b[1;32mIn[29], line 1\u001b[1;36m\u001b[0m\n\u001b[1;33m    HARSHITHA V\u001b[0m\n\u001b[1;37m              ^\u001b[0m\n\u001b[1;31mSyntaxError\u001b[0m\u001b[1;31m:\u001b[0m invalid syntax\n"
     ]
    }
   ],
   "source": [
    "HARSHITHA V\n",
    "212223230074"
   ]
  },
  {
   "cell_type": "code",
   "execution_count": null,
   "id": "5d77b678",
   "metadata": {},
   "outputs": [],
   "source": [
    "#import the libraries \n",
    "import cv2\n",
    "from matplotlib import pyplot as plt\n",
    "\n",
    "# Load the color image\n",
    "image = cv2.imread(r\"C:\\Users\\admin\\Downloads\\painting.jpeg\")\n",
    "\n",
    "# Check if the image was loaded successfully\n",
    "if image is None:\n",
    "    print(\"Error: Image not found or path is incorrect.\")\n",
    "else:\n",
    "    # Convert the image to grayscale\n",
    "    gray_image = cv2.cvtColor(image, cv2.COLOR_BGR2GRAY)\n",
    "\n",
    "    # Display the grayscale image\n",
    "    plt.figure(figsize=(6, 6))\n",
    "    plt.imshow(gray_image, cmap='gray')\n",
    "    plt.title('Original Grayscale Image')\n",
    "    plt.axis('off')\n",
    "    plt.show()\n"
   ]
  },
  {
   "cell_type": "code",
   "execution_count": null,
   "id": "487644e8",
   "metadata": {},
   "outputs": [],
   "source": [
    "# Calculate histogram for the original grayscale image\n",
    "hist_original = cv2.calcHist([gray_image], [0], None, [256], [0, 256])\n",
    "\n",
    "# Plot the histogram\n",
    "plt.figure(figsize=(6, 4))\n",
    "plt.plot(hist_original, color='black')\n",
    "plt.title('Original Histogram')\n",
    "plt.xlabel('Pixel Intensity')\n",
    "plt.ylabel('Frequency')\n",
    "plt.xlim([0, 256])\n",
    "plt.grid(True)\n",
    "plt.show()\n"
   ]
  },
  {
   "cell_type": "code",
   "execution_count": null,
   "id": "ae6b1521",
   "metadata": {},
   "outputs": [],
   "source": [
    "# Apply histogram equalization\n",
    "equalized_image = cv2.equalizeHist(gray_image)\n",
    "\n",
    "# Display the equalized grayscale image\n",
    "plt.figure(figsize=(6, 6))\n",
    "plt.imshow(equalized_image, cmap='gray')  # corrected colormap spelling\n",
    "plt.title('Equalized Image')\n",
    "plt.axis('off')\n",
    "plt.show()\n"
   ]
  },
  {
   "cell_type": "code",
   "execution_count": null,
   "id": "1cab33d2",
   "metadata": {},
   "outputs": [],
   "source": [
    "HARSHITHA V\n",
    "212223230074"
   ]
  },
  {
   "cell_type": "code",
   "execution_count": null,
   "id": "a4b19140",
   "metadata": {},
   "outputs": [],
   "source": [
    "# Calculate histogram for the equalized image\n",
    "hist_equalized = cv2.calcHist([equalized_image], [0], None, [256], [0, 256])\n",
    "\n",
    "# Plot the histogram\n",
    "plt.figure(figsize=(6, 4))\n",
    "plt.plot(hist_equalized, color='black')\n",
    "plt.title('Equalized Histogram')\n",
    "plt.xlabel('Pixel Intensity')\n",
    "plt.ylabel('Frequency')\n",
    "plt.xlim([0, 256])\n",
    "plt.grid(True)\n",
    "plt.show()\n"
   ]
  },
  {
   "cell_type": "code",
   "execution_count": null,
   "id": "7f2d976d",
   "metadata": {},
   "outputs": [],
   "source": [
    "HARSHITHA V\n",
    "212223230074"
   ]
  }
 ],
 "metadata": {
  "kernelspec": {
   "display_name": "Python 3 (ipykernel)",
   "language": "python",
   "name": "python3"
  },
  "language_info": {
   "codemirror_mode": {
    "name": "ipython",
    "version": 3
   },
   "file_extension": ".py",
   "mimetype": "text/x-python",
   "name": "python",
   "nbconvert_exporter": "python",
   "pygments_lexer": "ipython3",
   "version": "3.11.3"
  }
 },
 "nbformat": 4,
 "nbformat_minor": 5
}
